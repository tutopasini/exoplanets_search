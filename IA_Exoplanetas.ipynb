{
  "nbformat": 4,
  "nbformat_minor": 0,
  "metadata": {
    "colab": {
      "name": "IA - Exoplanetas.ipynb",
      "provenance": [],
      "collapsed_sections": [
        "k3aanl4rl2x1",
        "vVDFjGgwmWIf"
      ],
      "toc_visible": true,
      "include_colab_link": true
    },
    "kernelspec": {
      "name": "python3",
      "display_name": "Python 3"
    }
  },
  "cells": [
    {
      "cell_type": "markdown",
      "metadata": {
        "id": "view-in-github",
        "colab_type": "text"
      },
      "source": [
        "<a href=\"https://colab.research.google.com/github/tutopasini/exoplanets_search/blob/main/IA_Exoplanetas.ipynb\" target=\"_parent\"><img src=\"https://colab.research.google.com/assets/colab-badge.svg\" alt=\"Open In Colab\"/></a>"
      ]
    },
    {
      "cell_type": "markdown",
      "metadata": {
        "id": "62bGrmPJxWWa"
      },
      "source": [
        "# Motivação\n",
        "A ideia do nosso projeto é treinar um modelo capaz de identificar sistemas solares que possuem ao menos um exoplaneta em órbita com um desempenho aceitável.\n",
        "\n",
        "Como os planetas não emitem luz, é necessário observar os dados de iluminação das estrelas. Através de padrões na variações da emissão de luz, é possível identificar possíveis corpos celestes em órbita nessa estrela.\n",
        "\n",
        "O dataset pode ser encontrado neste [link](https://www.kaggle.com/keplersmachines/kepler-labelled-time-series-data).\n",
        "\n",
        "**Questão de pesquisa: \"É possível prever com precisão a existência de exoplanetas utilizando algoritmos de deep learning?\"**"
      ]
    },
    {
      "cell_type": "code",
      "metadata": {
        "id": "Wte8tkwniwTU"
      },
      "source": [
        "!pip install -q kaggle"
      ],
      "execution_count": null,
      "outputs": []
    },
    {
      "cell_type": "code",
      "metadata": {
        "id": "IyeRb5LY4_T-",
        "outputId": "235aac5e-3363-4f90-a10d-582e94e8c9bf",
        "colab": {
          "base_uri": "https://localhost:8080/",
          "height": 105
        }
      },
      "source": [
        "import pandas as pd\n",
        "import sklearn as sk\n",
        "import scipy\n",
        "import numpy as np\n",
        "import matplotlib.pyplot as plt\n",
        "import seaborn as sns\n",
        "import tensorflow as tf\n",
        "import math\n",
        "import timeit\n",
        "from keras import backend as K\n",
        "from keras import metrics, regularizers\n",
        "from keras.models import Sequential, Model\n",
        "from keras.layers import Input, LSTM, Activation, concatenate, Dropout, Conv1D, MaxPool1D, Flatten, Dense\n",
        "from keras.layers import BatchNormalization, GlobalAveragePooling1D, Permute, Dropout, Bidirectional\n",
        "from keras.layers import cudnn_recurrent\n",
        "from keras.optimizers import Adam, SGD\n",
        "from keras.callbacks import EarlyStopping\n",
        "from google.colab import files\n",
        "from scipy import ndimage\n",
        "from scipy.signal import savgol_filter\n",
        "from scipy.ndimage.filters import uniform_filter1d\n",
        "from sklearn.preprocessing import StandardScaler, MinMaxScaler, RobustScaler, normalize \n",
        "from sklearn.metrics import accuracy_score, precision_score, recall_score\n",
        "from sklearn.metrics import f1_score, roc_auc_score, confusion_matrix\n",
        "from sklearn.metrics import classification_report, balanced_accuracy_score\n",
        "from sklearn.utils import resample\n",
        "from imblearn.over_sampling import SMOTE, ADASYN\n",
        "from collections import Counter\n",
        "\n",
        "%matplotlib inline"
      ],
      "execution_count": null,
      "outputs": [
        {
          "output_type": "stream",
          "text": [
            "/usr/local/lib/python3.6/dist-packages/sklearn/externals/six.py:31: FutureWarning: The module is deprecated in version 0.21 and will be removed in version 0.23 since we've dropped support for Python 2.7. Please rely on the official version of six (https://pypi.org/project/six/).\n",
            "  \"(https://pypi.org/project/six/).\", FutureWarning)\n",
            "/usr/local/lib/python3.6/dist-packages/sklearn/utils/deprecation.py:144: FutureWarning: The sklearn.neighbors.base module is  deprecated in version 0.22 and will be removed in version 0.24. The corresponding classes / functions should instead be imported from sklearn.neighbors. Anything that cannot be imported from sklearn.neighbors is now part of the private API.\n",
            "  warnings.warn(message, FutureWarning)\n"
          ],
          "name": "stderr"
        }
      ]
    },
    {
      "cell_type": "markdown",
      "metadata": {
        "id": "k3aanl4rl2x1"
      },
      "source": [
        "# Baixando dataset do Kaggle\n",
        "\n",
        "Selecionar o arquivo kaggle.json para comunicação com a API do kaggle.\n",
        "\n"
      ]
    },
    {
      "cell_type": "code",
      "metadata": {
        "id": "nJjneZTpi2Rc",
        "outputId": "2f1d568a-ee94-4d50-af91-ffd58d2b735d",
        "colab": {
          "resources": {
            "http://localhost:8080/nbextensions/google.colab/files.js": {
              "data": "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",
              "ok": true,
              "headers": [
                [
                  "content-type",
                  "application/javascript"
                ]
              ],
              "status": 200,
              "status_text": ""
            }
          },
          "base_uri": "https://localhost:8080/",
          "height": 90
        }
      },
      "source": [
        "uploaded = files.upload()\n",
        "\n",
        "for fn in uploaded.keys():\n",
        "  print('User uploaded file \"{name}\" with length {length} bytes'.format(\n",
        "      name=fn, length=len(uploaded[fn])))\n",
        "  \n",
        "# Then move kaggle.json into the folder where the API expects to find it.\n",
        "!mkdir -p ~/.kaggle/ && mv kaggle.json ~/.kaggle/ && chmod 600 ~/.kaggle/kaggle.json"
      ],
      "execution_count": null,
      "outputs": [
        {
          "output_type": "display_data",
          "data": {
            "text/html": [
              "\n",
              "     <input type=\"file\" id=\"files-41ff8253-d840-470f-909f-4a7a41703ecc\" name=\"files[]\" multiple disabled\n",
              "        style=\"border:none\" />\n",
              "     <output id=\"result-41ff8253-d840-470f-909f-4a7a41703ecc\">\n",
              "      Upload widget is only available when the cell has been executed in the\n",
              "      current browser session. Please rerun this cell to enable.\n",
              "      </output>\n",
              "      <script src=\"/nbextensions/google.colab/files.js\"></script> "
            ],
            "text/plain": [
              "<IPython.core.display.HTML object>"
            ]
          },
          "metadata": {
            "tags": []
          }
        },
        {
          "output_type": "stream",
          "text": [
            "Saving kaggle.json to kaggle.json\n",
            "User uploaded file \"kaggle.json\" with length 69 bytes\n"
          ],
          "name": "stdout"
        }
      ]
    },
    {
      "cell_type": "code",
      "metadata": {
        "id": "jZRxlPM-i3Y6",
        "outputId": "afe44ce7-9ac8-4b31-945f-40a51a81b0cd",
        "colab": {
          "base_uri": "https://localhost:8080/",
          "height": 119
        }
      },
      "source": [
        "# Baixa e descompacta o dataset\n",
        "!kaggle datasets download -d keplersmachines/kepler-labelled-time-series-data\n",
        "!unzip kepler-labelled-time-series-data.zip"
      ],
      "execution_count": null,
      "outputs": [
        {
          "output_type": "stream",
          "text": [
            "Downloading kepler-labelled-time-series-data.zip to /content\n",
            " 63% 35.0M/55.9M [00:01<00:01, 18.4MB/s]\n",
            "100% 55.9M/55.9M [00:01<00:00, 39.9MB/s]\n",
            "Archive:  kepler-labelled-time-series-data.zip\n",
            "  inflating: exoTest.csv             \n",
            "  inflating: exoTrain.csv            \n"
          ],
          "name": "stdout"
        }
      ]
    },
    {
      "cell_type": "markdown",
      "metadata": {
        "id": "vVDFjGgwmWIf"
      },
      "source": [
        "# Carregando o dataset\n",
        "\n",
        "Carrega o .csv como um dataframe do pandas."
      ]
    },
    {
      "cell_type": "code",
      "metadata": {
        "id": "1CB4_46pmYrP"
      },
      "source": [
        "X_train = pd.read_csv(\"exoTrain.csv\")\n",
        "X_test = pd.read_csv(\"exoTest.csv\")"
      ],
      "execution_count": null,
      "outputs": []
    },
    {
      "cell_type": "markdown",
      "metadata": {
        "id": "EMoaqVEK2m2y"
      },
      "source": [
        "A seguir, vamos separar os labels do restantes das features. Os dados já vieram separados em um conjunto de treino (exoTrain) e testes (exoTest)"
      ]
    },
    {
      "cell_type": "code",
      "metadata": {
        "id": "zSooVyw72km2"
      },
      "source": [
        "# Obs.: Faz -1 pois os labels estão como 1 e 2 e é necessário ajustar para 0 e 1\n",
        "y_train = X_train['LABEL'] -1\n",
        "X_train = X_train.drop('LABEL',axis=1)\n",
        "y_test = X_test['LABEL'] -1\n",
        "X_test = X_test.drop('LABEL',axis=1)"
      ],
      "execution_count": null,
      "outputs": []
    },
    {
      "cell_type": "markdown",
      "metadata": {
        "id": "9oyugE2tpDvt"
      },
      "source": [
        "# Entendendo o dataset\n",
        "\n",
        "Nesta seção será explicada a estrutura do dataset através dos dados de treino."
      ]
    },
    {
      "cell_type": "code",
      "metadata": {
        "id": "A254olF6pFwm",
        "outputId": "51862bcc-7807-44a1-b8fa-3da5026ea35c",
        "colab": {
          "base_uri": "https://localhost:8080/",
          "height": 253
        }
      },
      "source": [
        "X_train.head()"
      ],
      "execution_count": null,
      "outputs": [
        {
          "output_type": "execute_result",
          "data": {
            "text/html": [
              "<div>\n",
              "<style scoped>\n",
              "    .dataframe tbody tr th:only-of-type {\n",
              "        vertical-align: middle;\n",
              "    }\n",
              "\n",
              "    .dataframe tbody tr th {\n",
              "        vertical-align: top;\n",
              "    }\n",
              "\n",
              "    .dataframe thead th {\n",
              "        text-align: right;\n",
              "    }\n",
              "</style>\n",
              "<table border=\"1\" class=\"dataframe\">\n",
              "  <thead>\n",
              "    <tr style=\"text-align: right;\">\n",
              "      <th></th>\n",
              "      <th>FLUX.1</th>\n",
              "      <th>FLUX.2</th>\n",
              "      <th>FLUX.3</th>\n",
              "      <th>FLUX.4</th>\n",
              "      <th>FLUX.5</th>\n",
              "      <th>FLUX.6</th>\n",
              "      <th>FLUX.7</th>\n",
              "      <th>FLUX.8</th>\n",
              "      <th>FLUX.9</th>\n",
              "      <th>FLUX.10</th>\n",
              "      <th>FLUX.11</th>\n",
              "      <th>FLUX.12</th>\n",
              "      <th>FLUX.13</th>\n",
              "      <th>FLUX.14</th>\n",
              "      <th>FLUX.15</th>\n",
              "      <th>FLUX.16</th>\n",
              "      <th>FLUX.17</th>\n",
              "      <th>FLUX.18</th>\n",
              "      <th>FLUX.19</th>\n",
              "      <th>FLUX.20</th>\n",
              "      <th>FLUX.21</th>\n",
              "      <th>FLUX.22</th>\n",
              "      <th>FLUX.23</th>\n",
              "      <th>FLUX.24</th>\n",
              "      <th>FLUX.25</th>\n",
              "      <th>FLUX.26</th>\n",
              "      <th>FLUX.27</th>\n",
              "      <th>FLUX.28</th>\n",
              "      <th>FLUX.29</th>\n",
              "      <th>FLUX.30</th>\n",
              "      <th>FLUX.31</th>\n",
              "      <th>FLUX.32</th>\n",
              "      <th>FLUX.33</th>\n",
              "      <th>FLUX.34</th>\n",
              "      <th>FLUX.35</th>\n",
              "      <th>FLUX.36</th>\n",
              "      <th>FLUX.37</th>\n",
              "      <th>FLUX.38</th>\n",
              "      <th>FLUX.39</th>\n",
              "      <th>FLUX.40</th>\n",
              "      <th>...</th>\n",
              "      <th>FLUX.3158</th>\n",
              "      <th>FLUX.3159</th>\n",
              "      <th>FLUX.3160</th>\n",
              "      <th>FLUX.3161</th>\n",
              "      <th>FLUX.3162</th>\n",
              "      <th>FLUX.3163</th>\n",
              "      <th>FLUX.3164</th>\n",
              "      <th>FLUX.3165</th>\n",
              "      <th>FLUX.3166</th>\n",
              "      <th>FLUX.3167</th>\n",
              "      <th>FLUX.3168</th>\n",
              "      <th>FLUX.3169</th>\n",
              "      <th>FLUX.3170</th>\n",
              "      <th>FLUX.3171</th>\n",
              "      <th>FLUX.3172</th>\n",
              "      <th>FLUX.3173</th>\n",
              "      <th>FLUX.3174</th>\n",
              "      <th>FLUX.3175</th>\n",
              "      <th>FLUX.3176</th>\n",
              "      <th>FLUX.3177</th>\n",
              "      <th>FLUX.3178</th>\n",
              "      <th>FLUX.3179</th>\n",
              "      <th>FLUX.3180</th>\n",
              "      <th>FLUX.3181</th>\n",
              "      <th>FLUX.3182</th>\n",
              "      <th>FLUX.3183</th>\n",
              "      <th>FLUX.3184</th>\n",
              "      <th>FLUX.3185</th>\n",
              "      <th>FLUX.3186</th>\n",
              "      <th>FLUX.3187</th>\n",
              "      <th>FLUX.3188</th>\n",
              "      <th>FLUX.3189</th>\n",
              "      <th>FLUX.3190</th>\n",
              "      <th>FLUX.3191</th>\n",
              "      <th>FLUX.3192</th>\n",
              "      <th>FLUX.3193</th>\n",
              "      <th>FLUX.3194</th>\n",
              "      <th>FLUX.3195</th>\n",
              "      <th>FLUX.3196</th>\n",
              "      <th>FLUX.3197</th>\n",
              "    </tr>\n",
              "  </thead>\n",
              "  <tbody>\n",
              "    <tr>\n",
              "      <th>0</th>\n",
              "      <td>93.85</td>\n",
              "      <td>83.81</td>\n",
              "      <td>20.10</td>\n",
              "      <td>-26.98</td>\n",
              "      <td>-39.56</td>\n",
              "      <td>-124.71</td>\n",
              "      <td>-135.18</td>\n",
              "      <td>-96.27</td>\n",
              "      <td>-79.89</td>\n",
              "      <td>-160.17</td>\n",
              "      <td>-207.47</td>\n",
              "      <td>-154.88</td>\n",
              "      <td>-173.71</td>\n",
              "      <td>-146.56</td>\n",
              "      <td>-120.26</td>\n",
              "      <td>-102.85</td>\n",
              "      <td>-98.71</td>\n",
              "      <td>-48.42</td>\n",
              "      <td>-86.57</td>\n",
              "      <td>-0.84</td>\n",
              "      <td>-25.85</td>\n",
              "      <td>-67.39</td>\n",
              "      <td>-36.55</td>\n",
              "      <td>-87.01</td>\n",
              "      <td>-97.72</td>\n",
              "      <td>-131.59</td>\n",
              "      <td>-134.80</td>\n",
              "      <td>-186.97</td>\n",
              "      <td>-244.32</td>\n",
              "      <td>-225.76</td>\n",
              "      <td>-229.60</td>\n",
              "      <td>-253.48</td>\n",
              "      <td>-145.74</td>\n",
              "      <td>-145.74</td>\n",
              "      <td>30.47</td>\n",
              "      <td>-173.39</td>\n",
              "      <td>-187.56</td>\n",
              "      <td>-192.88</td>\n",
              "      <td>-182.76</td>\n",
              "      <td>-195.99</td>\n",
              "      <td>...</td>\n",
              "      <td>-167.69</td>\n",
              "      <td>-56.86</td>\n",
              "      <td>7.56</td>\n",
              "      <td>37.40</td>\n",
              "      <td>-81.13</td>\n",
              "      <td>-20.10</td>\n",
              "      <td>-30.34</td>\n",
              "      <td>-320.48</td>\n",
              "      <td>-320.48</td>\n",
              "      <td>-287.72</td>\n",
              "      <td>-351.25</td>\n",
              "      <td>-70.07</td>\n",
              "      <td>-194.34</td>\n",
              "      <td>-106.47</td>\n",
              "      <td>-14.80</td>\n",
              "      <td>63.13</td>\n",
              "      <td>130.03</td>\n",
              "      <td>76.43</td>\n",
              "      <td>131.90</td>\n",
              "      <td>-193.16</td>\n",
              "      <td>-193.16</td>\n",
              "      <td>-89.26</td>\n",
              "      <td>-17.56</td>\n",
              "      <td>-17.31</td>\n",
              "      <td>125.62</td>\n",
              "      <td>68.87</td>\n",
              "      <td>100.01</td>\n",
              "      <td>-9.60</td>\n",
              "      <td>-25.39</td>\n",
              "      <td>-16.51</td>\n",
              "      <td>-78.07</td>\n",
              "      <td>-102.15</td>\n",
              "      <td>-102.15</td>\n",
              "      <td>25.13</td>\n",
              "      <td>48.57</td>\n",
              "      <td>92.54</td>\n",
              "      <td>39.32</td>\n",
              "      <td>61.42</td>\n",
              "      <td>5.08</td>\n",
              "      <td>-39.54</td>\n",
              "    </tr>\n",
              "    <tr>\n",
              "      <th>1</th>\n",
              "      <td>-38.88</td>\n",
              "      <td>-33.83</td>\n",
              "      <td>-58.54</td>\n",
              "      <td>-40.09</td>\n",
              "      <td>-79.31</td>\n",
              "      <td>-72.81</td>\n",
              "      <td>-86.55</td>\n",
              "      <td>-85.33</td>\n",
              "      <td>-83.97</td>\n",
              "      <td>-73.38</td>\n",
              "      <td>-86.51</td>\n",
              "      <td>-74.97</td>\n",
              "      <td>-73.15</td>\n",
              "      <td>-86.13</td>\n",
              "      <td>-76.57</td>\n",
              "      <td>-61.27</td>\n",
              "      <td>-37.23</td>\n",
              "      <td>-48.53</td>\n",
              "      <td>-30.96</td>\n",
              "      <td>-8.14</td>\n",
              "      <td>-5.54</td>\n",
              "      <td>15.79</td>\n",
              "      <td>45.71</td>\n",
              "      <td>10.61</td>\n",
              "      <td>40.66</td>\n",
              "      <td>16.70</td>\n",
              "      <td>15.18</td>\n",
              "      <td>11.98</td>\n",
              "      <td>-203.70</td>\n",
              "      <td>19.13</td>\n",
              "      <td>19.13</td>\n",
              "      <td>19.13</td>\n",
              "      <td>19.13</td>\n",
              "      <td>19.13</td>\n",
              "      <td>17.02</td>\n",
              "      <td>-8.50</td>\n",
              "      <td>-13.87</td>\n",
              "      <td>-29.10</td>\n",
              "      <td>-34.29</td>\n",
              "      <td>-24.68</td>\n",
              "      <td>...</td>\n",
              "      <td>-36.75</td>\n",
              "      <td>-15.49</td>\n",
              "      <td>-13.24</td>\n",
              "      <td>20.46</td>\n",
              "      <td>-1.47</td>\n",
              "      <td>-0.40</td>\n",
              "      <td>27.80</td>\n",
              "      <td>-58.20</td>\n",
              "      <td>-58.20</td>\n",
              "      <td>-72.04</td>\n",
              "      <td>-58.01</td>\n",
              "      <td>-30.92</td>\n",
              "      <td>-13.42</td>\n",
              "      <td>-13.98</td>\n",
              "      <td>-5.43</td>\n",
              "      <td>8.71</td>\n",
              "      <td>1.80</td>\n",
              "      <td>36.59</td>\n",
              "      <td>-9.80</td>\n",
              "      <td>-19.53</td>\n",
              "      <td>-19.53</td>\n",
              "      <td>-24.32</td>\n",
              "      <td>-23.88</td>\n",
              "      <td>-33.07</td>\n",
              "      <td>-9.03</td>\n",
              "      <td>3.75</td>\n",
              "      <td>11.61</td>\n",
              "      <td>-12.66</td>\n",
              "      <td>-5.69</td>\n",
              "      <td>12.53</td>\n",
              "      <td>-3.28</td>\n",
              "      <td>-32.21</td>\n",
              "      <td>-32.21</td>\n",
              "      <td>-24.89</td>\n",
              "      <td>-4.86</td>\n",
              "      <td>0.76</td>\n",
              "      <td>-11.70</td>\n",
              "      <td>6.46</td>\n",
              "      <td>16.00</td>\n",
              "      <td>19.93</td>\n",
              "    </tr>\n",
              "    <tr>\n",
              "      <th>2</th>\n",
              "      <td>532.64</td>\n",
              "      <td>535.92</td>\n",
              "      <td>513.73</td>\n",
              "      <td>496.92</td>\n",
              "      <td>456.45</td>\n",
              "      <td>466.00</td>\n",
              "      <td>464.50</td>\n",
              "      <td>486.39</td>\n",
              "      <td>436.56</td>\n",
              "      <td>484.39</td>\n",
              "      <td>469.66</td>\n",
              "      <td>462.30</td>\n",
              "      <td>492.23</td>\n",
              "      <td>441.20</td>\n",
              "      <td>483.17</td>\n",
              "      <td>481.28</td>\n",
              "      <td>535.31</td>\n",
              "      <td>554.34</td>\n",
              "      <td>562.80</td>\n",
              "      <td>540.14</td>\n",
              "      <td>576.34</td>\n",
              "      <td>551.67</td>\n",
              "      <td>556.69</td>\n",
              "      <td>550.86</td>\n",
              "      <td>577.33</td>\n",
              "      <td>562.08</td>\n",
              "      <td>577.97</td>\n",
              "      <td>530.67</td>\n",
              "      <td>553.27</td>\n",
              "      <td>538.33</td>\n",
              "      <td>527.17</td>\n",
              "      <td>532.50</td>\n",
              "      <td>273.66</td>\n",
              "      <td>273.66</td>\n",
              "      <td>292.39</td>\n",
              "      <td>298.44</td>\n",
              "      <td>252.64</td>\n",
              "      <td>233.58</td>\n",
              "      <td>171.41</td>\n",
              "      <td>224.02</td>\n",
              "      <td>...</td>\n",
              "      <td>-51.09</td>\n",
              "      <td>-33.30</td>\n",
              "      <td>-61.53</td>\n",
              "      <td>-89.61</td>\n",
              "      <td>-69.17</td>\n",
              "      <td>-86.47</td>\n",
              "      <td>-140.91</td>\n",
              "      <td>-84.20</td>\n",
              "      <td>-84.20</td>\n",
              "      <td>-89.09</td>\n",
              "      <td>-55.44</td>\n",
              "      <td>-61.05</td>\n",
              "      <td>-29.17</td>\n",
              "      <td>-63.80</td>\n",
              "      <td>-57.61</td>\n",
              "      <td>2.70</td>\n",
              "      <td>-31.25</td>\n",
              "      <td>-47.09</td>\n",
              "      <td>-6.53</td>\n",
              "      <td>14.00</td>\n",
              "      <td>14.00</td>\n",
              "      <td>-25.05</td>\n",
              "      <td>-34.98</td>\n",
              "      <td>-32.08</td>\n",
              "      <td>-17.06</td>\n",
              "      <td>-27.77</td>\n",
              "      <td>7.86</td>\n",
              "      <td>-70.77</td>\n",
              "      <td>-64.44</td>\n",
              "      <td>-83.83</td>\n",
              "      <td>-71.69</td>\n",
              "      <td>13.31</td>\n",
              "      <td>13.31</td>\n",
              "      <td>-29.89</td>\n",
              "      <td>-20.88</td>\n",
              "      <td>5.06</td>\n",
              "      <td>-11.80</td>\n",
              "      <td>-28.91</td>\n",
              "      <td>-70.02</td>\n",
              "      <td>-96.67</td>\n",
              "    </tr>\n",
              "    <tr>\n",
              "      <th>3</th>\n",
              "      <td>326.52</td>\n",
              "      <td>347.39</td>\n",
              "      <td>302.35</td>\n",
              "      <td>298.13</td>\n",
              "      <td>317.74</td>\n",
              "      <td>312.70</td>\n",
              "      <td>322.33</td>\n",
              "      <td>311.31</td>\n",
              "      <td>312.42</td>\n",
              "      <td>323.33</td>\n",
              "      <td>311.14</td>\n",
              "      <td>326.19</td>\n",
              "      <td>313.11</td>\n",
              "      <td>313.89</td>\n",
              "      <td>317.96</td>\n",
              "      <td>330.92</td>\n",
              "      <td>341.10</td>\n",
              "      <td>360.58</td>\n",
              "      <td>370.29</td>\n",
              "      <td>369.71</td>\n",
              "      <td>339.00</td>\n",
              "      <td>336.24</td>\n",
              "      <td>319.31</td>\n",
              "      <td>321.56</td>\n",
              "      <td>308.02</td>\n",
              "      <td>296.82</td>\n",
              "      <td>279.34</td>\n",
              "      <td>275.78</td>\n",
              "      <td>289.67</td>\n",
              "      <td>281.33</td>\n",
              "      <td>285.37</td>\n",
              "      <td>281.87</td>\n",
              "      <td>88.75</td>\n",
              "      <td>88.75</td>\n",
              "      <td>67.71</td>\n",
              "      <td>74.46</td>\n",
              "      <td>69.34</td>\n",
              "      <td>76.51</td>\n",
              "      <td>80.26</td>\n",
              "      <td>70.31</td>\n",
              "      <td>...</td>\n",
              "      <td>-2.75</td>\n",
              "      <td>14.29</td>\n",
              "      <td>-14.18</td>\n",
              "      <td>-25.14</td>\n",
              "      <td>-13.43</td>\n",
              "      <td>-14.74</td>\n",
              "      <td>2.24</td>\n",
              "      <td>-31.07</td>\n",
              "      <td>-31.07</td>\n",
              "      <td>-50.27</td>\n",
              "      <td>-39.22</td>\n",
              "      <td>-51.33</td>\n",
              "      <td>-18.53</td>\n",
              "      <td>-1.99</td>\n",
              "      <td>10.43</td>\n",
              "      <td>-1.97</td>\n",
              "      <td>-15.32</td>\n",
              "      <td>-23.38</td>\n",
              "      <td>-27.71</td>\n",
              "      <td>-36.12</td>\n",
              "      <td>-36.12</td>\n",
              "      <td>-15.65</td>\n",
              "      <td>6.63</td>\n",
              "      <td>10.66</td>\n",
              "      <td>-8.57</td>\n",
              "      <td>-8.29</td>\n",
              "      <td>-21.90</td>\n",
              "      <td>-25.80</td>\n",
              "      <td>-29.86</td>\n",
              "      <td>7.42</td>\n",
              "      <td>5.71</td>\n",
              "      <td>-3.73</td>\n",
              "      <td>-3.73</td>\n",
              "      <td>30.05</td>\n",
              "      <td>20.03</td>\n",
              "      <td>-12.67</td>\n",
              "      <td>-8.77</td>\n",
              "      <td>-17.31</td>\n",
              "      <td>-17.35</td>\n",
              "      <td>13.98</td>\n",
              "    </tr>\n",
              "    <tr>\n",
              "      <th>4</th>\n",
              "      <td>-1107.21</td>\n",
              "      <td>-1112.59</td>\n",
              "      <td>-1118.95</td>\n",
              "      <td>-1095.10</td>\n",
              "      <td>-1057.55</td>\n",
              "      <td>-1034.48</td>\n",
              "      <td>-998.34</td>\n",
              "      <td>-1022.71</td>\n",
              "      <td>-989.57</td>\n",
              "      <td>-970.88</td>\n",
              "      <td>-933.30</td>\n",
              "      <td>-889.49</td>\n",
              "      <td>-888.66</td>\n",
              "      <td>-853.95</td>\n",
              "      <td>-800.91</td>\n",
              "      <td>-754.48</td>\n",
              "      <td>-717.24</td>\n",
              "      <td>-649.34</td>\n",
              "      <td>-605.71</td>\n",
              "      <td>-575.62</td>\n",
              "      <td>-526.37</td>\n",
              "      <td>-490.12</td>\n",
              "      <td>-458.73</td>\n",
              "      <td>-447.76</td>\n",
              "      <td>-419.54</td>\n",
              "      <td>-410.76</td>\n",
              "      <td>-404.10</td>\n",
              "      <td>-425.38</td>\n",
              "      <td>-397.29</td>\n",
              "      <td>-412.73</td>\n",
              "      <td>-446.49</td>\n",
              "      <td>-413.46</td>\n",
              "      <td>-1006.21</td>\n",
              "      <td>-1006.21</td>\n",
              "      <td>-973.29</td>\n",
              "      <td>-986.01</td>\n",
              "      <td>-975.88</td>\n",
              "      <td>-982.20</td>\n",
              "      <td>-953.73</td>\n",
              "      <td>-964.35</td>\n",
              "      <td>...</td>\n",
              "      <td>-694.76</td>\n",
              "      <td>-705.01</td>\n",
              "      <td>-625.24</td>\n",
              "      <td>-604.16</td>\n",
              "      <td>-668.26</td>\n",
              "      <td>-742.18</td>\n",
              "      <td>-820.55</td>\n",
              "      <td>-874.76</td>\n",
              "      <td>-874.76</td>\n",
              "      <td>-853.68</td>\n",
              "      <td>-808.62</td>\n",
              "      <td>-777.88</td>\n",
              "      <td>-712.62</td>\n",
              "      <td>-694.01</td>\n",
              "      <td>-655.74</td>\n",
              "      <td>-599.74</td>\n",
              "      <td>-617.30</td>\n",
              "      <td>-602.98</td>\n",
              "      <td>-539.29</td>\n",
              "      <td>-672.71</td>\n",
              "      <td>-672.71</td>\n",
              "      <td>-594.49</td>\n",
              "      <td>-597.60</td>\n",
              "      <td>-560.77</td>\n",
              "      <td>-501.95</td>\n",
              "      <td>-461.62</td>\n",
              "      <td>-468.59</td>\n",
              "      <td>-513.24</td>\n",
              "      <td>-504.70</td>\n",
              "      <td>-521.95</td>\n",
              "      <td>-594.37</td>\n",
              "      <td>-401.66</td>\n",
              "      <td>-401.66</td>\n",
              "      <td>-357.24</td>\n",
              "      <td>-443.76</td>\n",
              "      <td>-438.54</td>\n",
              "      <td>-399.71</td>\n",
              "      <td>-384.65</td>\n",
              "      <td>-411.79</td>\n",
              "      <td>-510.54</td>\n",
              "    </tr>\n",
              "  </tbody>\n",
              "</table>\n",
              "<p>5 rows × 3197 columns</p>\n",
              "</div>"
            ],
            "text/plain": [
              "    FLUX.1   FLUX.2   FLUX.3  ...  FLUX.3195  FLUX.3196  FLUX.3197\n",
              "0    93.85    83.81    20.10  ...      61.42       5.08     -39.54\n",
              "1   -38.88   -33.83   -58.54  ...       6.46      16.00      19.93\n",
              "2   532.64   535.92   513.73  ...     -28.91     -70.02     -96.67\n",
              "3   326.52   347.39   302.35  ...     -17.31     -17.35      13.98\n",
              "4 -1107.21 -1112.59 -1118.95  ...    -384.65    -411.79    -510.54\n",
              "\n",
              "[5 rows x 3197 columns]"
            ]
          },
          "metadata": {
            "tags": []
          },
          "execution_count": 7
        }
      ]
    },
    {
      "cell_type": "code",
      "metadata": {
        "id": "jppbHcoEK8WM",
        "outputId": "188fc25e-aa76-43e1-ff34-79f6aa62b430",
        "colab": {
          "base_uri": "https://localhost:8080/",
          "height": 346
        }
      },
      "source": [
        "X_train.describe()"
      ],
      "execution_count": null,
      "outputs": [
        {
          "output_type": "execute_result",
          "data": {
            "text/html": [
              "<div>\n",
              "<style scoped>\n",
              "    .dataframe tbody tr th:only-of-type {\n",
              "        vertical-align: middle;\n",
              "    }\n",
              "\n",
              "    .dataframe tbody tr th {\n",
              "        vertical-align: top;\n",
              "    }\n",
              "\n",
              "    .dataframe thead th {\n",
              "        text-align: right;\n",
              "    }\n",
              "</style>\n",
              "<table border=\"1\" class=\"dataframe\">\n",
              "  <thead>\n",
              "    <tr style=\"text-align: right;\">\n",
              "      <th></th>\n",
              "      <th>FLUX.1</th>\n",
              "      <th>FLUX.2</th>\n",
              "      <th>FLUX.3</th>\n",
              "      <th>FLUX.4</th>\n",
              "      <th>FLUX.5</th>\n",
              "      <th>FLUX.6</th>\n",
              "      <th>FLUX.7</th>\n",
              "      <th>FLUX.8</th>\n",
              "      <th>FLUX.9</th>\n",
              "      <th>FLUX.10</th>\n",
              "      <th>FLUX.11</th>\n",
              "      <th>FLUX.12</th>\n",
              "      <th>FLUX.13</th>\n",
              "      <th>FLUX.14</th>\n",
              "      <th>FLUX.15</th>\n",
              "      <th>FLUX.16</th>\n",
              "      <th>FLUX.17</th>\n",
              "      <th>FLUX.18</th>\n",
              "      <th>FLUX.19</th>\n",
              "      <th>FLUX.20</th>\n",
              "      <th>FLUX.21</th>\n",
              "      <th>FLUX.22</th>\n",
              "      <th>FLUX.23</th>\n",
              "      <th>FLUX.24</th>\n",
              "      <th>FLUX.25</th>\n",
              "      <th>FLUX.26</th>\n",
              "      <th>FLUX.27</th>\n",
              "      <th>FLUX.28</th>\n",
              "      <th>FLUX.29</th>\n",
              "      <th>FLUX.30</th>\n",
              "      <th>FLUX.31</th>\n",
              "      <th>FLUX.32</th>\n",
              "      <th>FLUX.33</th>\n",
              "      <th>FLUX.34</th>\n",
              "      <th>FLUX.35</th>\n",
              "      <th>FLUX.36</th>\n",
              "      <th>FLUX.37</th>\n",
              "      <th>FLUX.38</th>\n",
              "      <th>FLUX.39</th>\n",
              "      <th>FLUX.40</th>\n",
              "      <th>...</th>\n",
              "      <th>FLUX.3158</th>\n",
              "      <th>FLUX.3159</th>\n",
              "      <th>FLUX.3160</th>\n",
              "      <th>FLUX.3161</th>\n",
              "      <th>FLUX.3162</th>\n",
              "      <th>FLUX.3163</th>\n",
              "      <th>FLUX.3164</th>\n",
              "      <th>FLUX.3165</th>\n",
              "      <th>FLUX.3166</th>\n",
              "      <th>FLUX.3167</th>\n",
              "      <th>FLUX.3168</th>\n",
              "      <th>FLUX.3169</th>\n",
              "      <th>FLUX.3170</th>\n",
              "      <th>FLUX.3171</th>\n",
              "      <th>FLUX.3172</th>\n",
              "      <th>FLUX.3173</th>\n",
              "      <th>FLUX.3174</th>\n",
              "      <th>FLUX.3175</th>\n",
              "      <th>FLUX.3176</th>\n",
              "      <th>FLUX.3177</th>\n",
              "      <th>FLUX.3178</th>\n",
              "      <th>FLUX.3179</th>\n",
              "      <th>FLUX.3180</th>\n",
              "      <th>FLUX.3181</th>\n",
              "      <th>FLUX.3182</th>\n",
              "      <th>FLUX.3183</th>\n",
              "      <th>FLUX.3184</th>\n",
              "      <th>FLUX.3185</th>\n",
              "      <th>FLUX.3186</th>\n",
              "      <th>FLUX.3187</th>\n",
              "      <th>FLUX.3188</th>\n",
              "      <th>FLUX.3189</th>\n",
              "      <th>FLUX.3190</th>\n",
              "      <th>FLUX.3191</th>\n",
              "      <th>FLUX.3192</th>\n",
              "      <th>FLUX.3193</th>\n",
              "      <th>FLUX.3194</th>\n",
              "      <th>FLUX.3195</th>\n",
              "      <th>FLUX.3196</th>\n",
              "      <th>FLUX.3197</th>\n",
              "    </tr>\n",
              "  </thead>\n",
              "  <tbody>\n",
              "    <tr>\n",
              "      <th>count</th>\n",
              "      <td>5.087000e+03</td>\n",
              "      <td>5.087000e+03</td>\n",
              "      <td>5.087000e+03</td>\n",
              "      <td>5.087000e+03</td>\n",
              "      <td>5.087000e+03</td>\n",
              "      <td>5.087000e+03</td>\n",
              "      <td>5.087000e+03</td>\n",
              "      <td>5.087000e+03</td>\n",
              "      <td>5.087000e+03</td>\n",
              "      <td>5.087000e+03</td>\n",
              "      <td>5.087000e+03</td>\n",
              "      <td>5.087000e+03</td>\n",
              "      <td>5.087000e+03</td>\n",
              "      <td>5087.000000</td>\n",
              "      <td>5087.000000</td>\n",
              "      <td>5087.000000</td>\n",
              "      <td>5087.00000</td>\n",
              "      <td>5087.000000</td>\n",
              "      <td>5087.000000</td>\n",
              "      <td>5087.000000</td>\n",
              "      <td>5087.000000</td>\n",
              "      <td>5087.000000</td>\n",
              "      <td>5087.000000</td>\n",
              "      <td>5087.000000</td>\n",
              "      <td>5087.000000</td>\n",
              "      <td>5087.000000</td>\n",
              "      <td>5.087000e+03</td>\n",
              "      <td>5.087000e+03</td>\n",
              "      <td>5.087000e+03</td>\n",
              "      <td>5.087000e+03</td>\n",
              "      <td>5.087000e+03</td>\n",
              "      <td>5.087000e+03</td>\n",
              "      <td>5.087000e+03</td>\n",
              "      <td>5.087000e+03</td>\n",
              "      <td>5.087000e+03</td>\n",
              "      <td>5.087000e+03</td>\n",
              "      <td>5.087000e+03</td>\n",
              "      <td>5.087000e+03</td>\n",
              "      <td>5.087000e+03</td>\n",
              "      <td>5.087000e+03</td>\n",
              "      <td>...</td>\n",
              "      <td>5.087000e+03</td>\n",
              "      <td>5.087000e+03</td>\n",
              "      <td>5.087000e+03</td>\n",
              "      <td>5087.000000</td>\n",
              "      <td>5087.000000</td>\n",
              "      <td>5087.000000</td>\n",
              "      <td>5087.000000</td>\n",
              "      <td>5087.000000</td>\n",
              "      <td>5087.000000</td>\n",
              "      <td>5087.000000</td>\n",
              "      <td>5087.000000</td>\n",
              "      <td>5087.000000</td>\n",
              "      <td>5.087000e+03</td>\n",
              "      <td>5.087000e+03</td>\n",
              "      <td>5087.000000</td>\n",
              "      <td>5087.000000</td>\n",
              "      <td>5087.000000</td>\n",
              "      <td>5087.000000</td>\n",
              "      <td>5087.000000</td>\n",
              "      <td>5087.000000</td>\n",
              "      <td>5087.000000</td>\n",
              "      <td>5087.000000</td>\n",
              "      <td>5087.000000</td>\n",
              "      <td>5087.000000</td>\n",
              "      <td>5087.000000</td>\n",
              "      <td>5087.000000</td>\n",
              "      <td>5087.000000</td>\n",
              "      <td>5087.000000</td>\n",
              "      <td>5087.000000</td>\n",
              "      <td>5087.000000</td>\n",
              "      <td>5.087000e+03</td>\n",
              "      <td>5.087000e+03</td>\n",
              "      <td>5.087000e+03</td>\n",
              "      <td>5.087000e+03</td>\n",
              "      <td>5.087000e+03</td>\n",
              "      <td>5.087000e+03</td>\n",
              "      <td>5087.000000</td>\n",
              "      <td>5087.000000</td>\n",
              "      <td>5087.000000</td>\n",
              "      <td>5087.000000</td>\n",
              "    </tr>\n",
              "    <tr>\n",
              "      <th>mean</th>\n",
              "      <td>1.445054e+02</td>\n",
              "      <td>1.285778e+02</td>\n",
              "      <td>1.471348e+02</td>\n",
              "      <td>1.561512e+02</td>\n",
              "      <td>1.561477e+02</td>\n",
              "      <td>1.469646e+02</td>\n",
              "      <td>1.168380e+02</td>\n",
              "      <td>1.144983e+02</td>\n",
              "      <td>1.228639e+02</td>\n",
              "      <td>1.410852e+02</td>\n",
              "      <td>1.124563e+02</td>\n",
              "      <td>1.050821e+02</td>\n",
              "      <td>7.720985e+01</td>\n",
              "      <td>60.143330</td>\n",
              "      <td>17.630999</td>\n",
              "      <td>-54.355089</td>\n",
              "      <td>-103.08460</td>\n",
              "      <td>-144.560114</td>\n",
              "      <td>-113.322037</td>\n",
              "      <td>-68.828616</td>\n",
              "      <td>-32.839733</td>\n",
              "      <td>31.196475</td>\n",
              "      <td>88.517940</td>\n",
              "      <td>175.080436</td>\n",
              "      <td>233.700224</td>\n",
              "      <td>281.801687</td>\n",
              "      <td>4.643881e+02</td>\n",
              "      <td>5.347781e+02</td>\n",
              "      <td>5.686202e+02</td>\n",
              "      <td>5.575065e+02</td>\n",
              "      <td>5.667802e+02</td>\n",
              "      <td>5.469081e+02</td>\n",
              "      <td>1.775987e+02</td>\n",
              "      <td>1.977492e+02</td>\n",
              "      <td>2.291148e+02</td>\n",
              "      <td>2.441020e+02</td>\n",
              "      <td>2.501690e+02</td>\n",
              "      <td>2.613476e+02</td>\n",
              "      <td>2.326228e+02</td>\n",
              "      <td>1.826577e+02</td>\n",
              "      <td>...</td>\n",
              "      <td>8.001983e+02</td>\n",
              "      <td>8.456118e+02</td>\n",
              "      <td>7.564445e+02</td>\n",
              "      <td>116.982994</td>\n",
              "      <td>158.543973</td>\n",
              "      <td>129.188885</td>\n",
              "      <td>5.817181</td>\n",
              "      <td>-97.778421</td>\n",
              "      <td>-84.500629</td>\n",
              "      <td>-2.522744</td>\n",
              "      <td>125.509414</td>\n",
              "      <td>354.448954</td>\n",
              "      <td>6.254212e+02</td>\n",
              "      <td>8.012768e+02</td>\n",
              "      <td>106.772064</td>\n",
              "      <td>80.353945</td>\n",
              "      <td>12.455127</td>\n",
              "      <td>-94.172579</td>\n",
              "      <td>-181.646112</td>\n",
              "      <td>-320.240619</td>\n",
              "      <td>-358.358437</td>\n",
              "      <td>-323.468262</td>\n",
              "      <td>-281.609027</td>\n",
              "      <td>-213.522064</td>\n",
              "      <td>-107.086774</td>\n",
              "      <td>-110.572898</td>\n",
              "      <td>-71.794968</td>\n",
              "      <td>-31.777614</td>\n",
              "      <td>72.747847</td>\n",
              "      <td>126.815573</td>\n",
              "      <td>3.485578e+02</td>\n",
              "      <td>4.956476e+02</td>\n",
              "      <td>6.711211e+02</td>\n",
              "      <td>7.468790e+02</td>\n",
              "      <td>6.937372e+02</td>\n",
              "      <td>6.553031e+02</td>\n",
              "      <td>-494.784966</td>\n",
              "      <td>-544.594264</td>\n",
              "      <td>-440.239100</td>\n",
              "      <td>-300.536399</td>\n",
              "    </tr>\n",
              "    <tr>\n",
              "      <th>std</th>\n",
              "      <td>2.150669e+04</td>\n",
              "      <td>2.179717e+04</td>\n",
              "      <td>2.191309e+04</td>\n",
              "      <td>2.223366e+04</td>\n",
              "      <td>2.308448e+04</td>\n",
              "      <td>2.410567e+04</td>\n",
              "      <td>2.414109e+04</td>\n",
              "      <td>2.290691e+04</td>\n",
              "      <td>2.102681e+04</td>\n",
              "      <td>1.942289e+04</td>\n",
              "      <td>1.832810e+04</td>\n",
              "      <td>1.768321e+04</td>\n",
              "      <td>1.731920e+04</td>\n",
              "      <td>16647.817648</td>\n",
              "      <td>16725.088231</td>\n",
              "      <td>17162.322247</td>\n",
              "      <td>17356.98839</td>\n",
              "      <td>16979.436723</td>\n",
              "      <td>16011.508248</td>\n",
              "      <td>15118.835589</td>\n",
              "      <td>14255.363528</td>\n",
              "      <td>14048.475841</td>\n",
              "      <td>14618.614614</td>\n",
              "      <td>15246.020915</td>\n",
              "      <td>16803.416700</td>\n",
              "      <td>17930.530299</td>\n",
              "      <td>2.523553e+04</td>\n",
              "      <td>2.704750e+04</td>\n",
              "      <td>2.964609e+04</td>\n",
              "      <td>3.315534e+04</td>\n",
              "      <td>3.679672e+04</td>\n",
              "      <td>4.144422e+04</td>\n",
              "      <td>2.071160e+04</td>\n",
              "      <td>2.108089e+04</td>\n",
              "      <td>2.144121e+04</td>\n",
              "      <td>2.175216e+04</td>\n",
              "      <td>2.180420e+04</td>\n",
              "      <td>2.164199e+04</td>\n",
              "      <td>2.132321e+04</td>\n",
              "      <td>2.115301e+04</td>\n",
              "      <td>...</td>\n",
              "      <td>5.116648e+04</td>\n",
              "      <td>5.829319e+04</td>\n",
              "      <td>5.898207e+04</td>\n",
              "      <td>16075.902775</td>\n",
              "      <td>16263.350901</td>\n",
              "      <td>15613.273881</td>\n",
              "      <td>14397.292446</td>\n",
              "      <td>14887.907167</td>\n",
              "      <td>14466.376116</td>\n",
              "      <td>12079.533421</td>\n",
              "      <td>12455.557157</td>\n",
              "      <td>20116.003038</td>\n",
              "      <td>3.307799e+04</td>\n",
              "      <td>4.613980e+04</td>\n",
              "      <td>15648.242604</td>\n",
              "      <td>15514.533197</td>\n",
              "      <td>14142.137616</td>\n",
              "      <td>13113.457203</td>\n",
              "      <td>13161.476260</td>\n",
              "      <td>14165.866392</td>\n",
              "      <td>15083.632082</td>\n",
              "      <td>14587.243316</td>\n",
              "      <td>13548.583112</td>\n",
              "      <td>11544.505620</td>\n",
              "      <td>10369.103689</td>\n",
              "      <td>10653.997273</td>\n",
              "      <td>10238.433598</td>\n",
              "      <td>10849.383610</td>\n",
              "      <td>16548.155180</td>\n",
              "      <td>20119.224581</td>\n",
              "      <td>2.864786e+04</td>\n",
              "      <td>3.551876e+04</td>\n",
              "      <td>4.349963e+04</td>\n",
              "      <td>4.981375e+04</td>\n",
              "      <td>5.087103e+04</td>\n",
              "      <td>5.339979e+04</td>\n",
              "      <td>17844.469520</td>\n",
              "      <td>17722.339334</td>\n",
              "      <td>16273.406292</td>\n",
              "      <td>14459.795577</td>\n",
              "    </tr>\n",
              "    <tr>\n",
              "      <th>min</th>\n",
              "      <td>-2.278563e+05</td>\n",
              "      <td>-3.154408e+05</td>\n",
              "      <td>-2.840018e+05</td>\n",
              "      <td>-2.340069e+05</td>\n",
              "      <td>-4.231956e+05</td>\n",
              "      <td>-5.975521e+05</td>\n",
              "      <td>-6.724046e+05</td>\n",
              "      <td>-5.790136e+05</td>\n",
              "      <td>-3.973882e+05</td>\n",
              "      <td>-2.223300e+05</td>\n",
              "      <td>-2.279016e+05</td>\n",
              "      <td>-2.996757e+05</td>\n",
              "      <td>-4.453612e+05</td>\n",
              "      <td>-557042.690000</td>\n",
              "      <td>-695994.840000</td>\n",
              "      <td>-815633.560000</td>\n",
              "      <td>-880865.85000</td>\n",
              "      <td>-892477.410000</td>\n",
              "      <td>-851507.680000</td>\n",
              "      <td>-778025.050000</td>\n",
              "      <td>-588309.250000</td>\n",
              "      <td>-384489.470000</td>\n",
              "      <td>-284614.630000</td>\n",
              "      <td>-178528.000000</td>\n",
              "      <td>-196692.000000</td>\n",
              "      <td>-303841.000000</td>\n",
              "      <td>-3.908970e+05</td>\n",
              "      <td>-4.164400e+05</td>\n",
              "      <td>-4.467240e+05</td>\n",
              "      <td>-5.058590e+05</td>\n",
              "      <td>-5.411395e+05</td>\n",
              "      <td>-6.680720e+05</td>\n",
              "      <td>-1.409890e+05</td>\n",
              "      <td>-1.435910e+05</td>\n",
              "      <td>-1.462050e+05</td>\n",
              "      <td>-1.486640e+05</td>\n",
              "      <td>-1.506120e+05</td>\n",
              "      <td>-1.519390e+05</td>\n",
              "      <td>-1.538120e+05</td>\n",
              "      <td>-2.545865e+05</td>\n",
              "      <td>...</td>\n",
              "      <td>-4.277012e+05</td>\n",
              "      <td>-5.949525e+05</td>\n",
              "      <td>-4.697418e+05</td>\n",
              "      <td>-865198.000000</td>\n",
              "      <td>-858306.000000</td>\n",
              "      <td>-828928.000000</td>\n",
              "      <td>-803104.000000</td>\n",
              "      <td>-744362.000000</td>\n",
              "      <td>-666078.000000</td>\n",
              "      <td>-585962.000000</td>\n",
              "      <td>-463660.000000</td>\n",
              "      <td>-377752.000000</td>\n",
              "      <td>-3.151380e+05</td>\n",
              "      <td>-2.924080e+05</td>\n",
              "      <td>-837722.000000</td>\n",
              "      <td>-838948.000000</td>\n",
              "      <td>-825412.000000</td>\n",
              "      <td>-811356.000000</td>\n",
              "      <td>-793102.000000</td>\n",
              "      <td>-764532.000000</td>\n",
              "      <td>-736906.000000</td>\n",
              "      <td>-684930.000000</td>\n",
              "      <td>-635630.000000</td>\n",
              "      <td>-585380.000000</td>\n",
              "      <td>-510132.000000</td>\n",
              "      <td>-548286.000000</td>\n",
              "      <td>-511766.000000</td>\n",
              "      <td>-472450.000000</td>\n",
              "      <td>-420110.000000</td>\n",
              "      <td>-387486.000000</td>\n",
              "      <td>-3.240480e+05</td>\n",
              "      <td>-3.045540e+05</td>\n",
              "      <td>-2.933140e+05</td>\n",
              "      <td>-2.838420e+05</td>\n",
              "      <td>-3.288214e+05</td>\n",
              "      <td>-5.028894e+05</td>\n",
              "      <td>-775322.000000</td>\n",
              "      <td>-732006.000000</td>\n",
              "      <td>-700992.000000</td>\n",
              "      <td>-643170.000000</td>\n",
              "    </tr>\n",
              "    <tr>\n",
              "      <th>25%</th>\n",
              "      <td>-4.234000e+01</td>\n",
              "      <td>-3.952000e+01</td>\n",
              "      <td>-3.850500e+01</td>\n",
              "      <td>-3.505000e+01</td>\n",
              "      <td>-3.195500e+01</td>\n",
              "      <td>-3.338000e+01</td>\n",
              "      <td>-2.813000e+01</td>\n",
              "      <td>-2.784000e+01</td>\n",
              "      <td>-2.683500e+01</td>\n",
              "      <td>-2.797500e+01</td>\n",
              "      <td>-2.764500e+01</td>\n",
              "      <td>-2.654500e+01</td>\n",
              "      <td>-2.541000e+01</td>\n",
              "      <td>-27.280000</td>\n",
              "      <td>-25.420000</td>\n",
              "      <td>-25.675000</td>\n",
              "      <td>-23.02500</td>\n",
              "      <td>-23.055000</td>\n",
              "      <td>-23.070000</td>\n",
              "      <td>-22.790000</td>\n",
              "      <td>-22.825000</td>\n",
              "      <td>-23.680000</td>\n",
              "      <td>-25.450000</td>\n",
              "      <td>-27.980000</td>\n",
              "      <td>-29.815000</td>\n",
              "      <td>-28.810000</td>\n",
              "      <td>-3.329500e+01</td>\n",
              "      <td>-3.369500e+01</td>\n",
              "      <td>-3.613500e+01</td>\n",
              "      <td>-3.720500e+01</td>\n",
              "      <td>-3.916500e+01</td>\n",
              "      <td>-3.157000e+01</td>\n",
              "      <td>-2.249000e+01</td>\n",
              "      <td>-2.152500e+01</td>\n",
              "      <td>-2.235000e+01</td>\n",
              "      <td>-2.071500e+01</td>\n",
              "      <td>-2.291500e+01</td>\n",
              "      <td>-1.850000e+01</td>\n",
              "      <td>-1.864500e+01</td>\n",
              "      <td>-1.946000e+01</td>\n",
              "      <td>...</td>\n",
              "      <td>-2.096500e+01</td>\n",
              "      <td>-2.391000e+01</td>\n",
              "      <td>-2.705000e+01</td>\n",
              "      <td>-28.115000</td>\n",
              "      <td>-28.445000</td>\n",
              "      <td>-24.970000</td>\n",
              "      <td>-23.030000</td>\n",
              "      <td>-20.545000</td>\n",
              "      <td>-19.885000</td>\n",
              "      <td>-18.750000</td>\n",
              "      <td>-19.405000</td>\n",
              "      <td>-17.645000</td>\n",
              "      <td>-1.857000e+01</td>\n",
              "      <td>-2.163000e+01</td>\n",
              "      <td>-26.345000</td>\n",
              "      <td>-26.815000</td>\n",
              "      <td>-25.770000</td>\n",
              "      <td>-23.900000</td>\n",
              "      <td>-21.930000</td>\n",
              "      <td>-22.540000</td>\n",
              "      <td>-20.945000</td>\n",
              "      <td>-19.420000</td>\n",
              "      <td>-18.315000</td>\n",
              "      <td>-16.650000</td>\n",
              "      <td>-15.870000</td>\n",
              "      <td>-14.645000</td>\n",
              "      <td>-14.975000</td>\n",
              "      <td>-16.775000</td>\n",
              "      <td>-18.945000</td>\n",
              "      <td>-18.705000</td>\n",
              "      <td>-1.760000e+01</td>\n",
              "      <td>-1.948500e+01</td>\n",
              "      <td>-1.757000e+01</td>\n",
              "      <td>-2.076000e+01</td>\n",
              "      <td>-2.226000e+01</td>\n",
              "      <td>-2.440500e+01</td>\n",
              "      <td>-26.760000</td>\n",
              "      <td>-24.065000</td>\n",
              "      <td>-21.135000</td>\n",
              "      <td>-19.820000</td>\n",
              "    </tr>\n",
              "    <tr>\n",
              "      <th>50%</th>\n",
              "      <td>-7.100000e-01</td>\n",
              "      <td>-8.900000e-01</td>\n",
              "      <td>-7.400000e-01</td>\n",
              "      <td>-4.000000e-01</td>\n",
              "      <td>-6.100000e-01</td>\n",
              "      <td>-1.030000e+00</td>\n",
              "      <td>-8.700000e-01</td>\n",
              "      <td>-6.600000e-01</td>\n",
              "      <td>-5.600000e-01</td>\n",
              "      <td>-9.600000e-01</td>\n",
              "      <td>-1.310000e+00</td>\n",
              "      <td>-9.100000e-01</td>\n",
              "      <td>-7.700000e-01</td>\n",
              "      <td>-1.440000</td>\n",
              "      <td>-0.070000</td>\n",
              "      <td>-0.100000</td>\n",
              "      <td>0.52000</td>\n",
              "      <td>1.000000</td>\n",
              "      <td>0.900000</td>\n",
              "      <td>0.650000</td>\n",
              "      <td>0.960000</td>\n",
              "      <td>1.680000</td>\n",
              "      <td>1.470000</td>\n",
              "      <td>0.690000</td>\n",
              "      <td>1.140000</td>\n",
              "      <td>1.150000</td>\n",
              "      <td>1.170000e+00</td>\n",
              "      <td>1.120000e+00</td>\n",
              "      <td>2.120000e+00</td>\n",
              "      <td>1.850000e+00</td>\n",
              "      <td>9.500000e-01</td>\n",
              "      <td>2.310000e+00</td>\n",
              "      <td>2.400000e-01</td>\n",
              "      <td>2.400000e-01</td>\n",
              "      <td>-3.000000e-01</td>\n",
              "      <td>-1.800000e-01</td>\n",
              "      <td>-6.800000e-01</td>\n",
              "      <td>2.600000e-01</td>\n",
              "      <td>-4.400000e-01</td>\n",
              "      <td>-7.500000e-01</td>\n",
              "      <td>...</td>\n",
              "      <td>3.100000e+00</td>\n",
              "      <td>3.460000e+00</td>\n",
              "      <td>3.170000e+00</td>\n",
              "      <td>-1.380000</td>\n",
              "      <td>-1.420000</td>\n",
              "      <td>-1.330000</td>\n",
              "      <td>-1.140000</td>\n",
              "      <td>-0.140000</td>\n",
              "      <td>0.130000</td>\n",
              "      <td>0.720000</td>\n",
              "      <td>0.820000</td>\n",
              "      <td>1.260000</td>\n",
              "      <td>1.710000e+00</td>\n",
              "      <td>2.140000e+00</td>\n",
              "      <td>-0.990000</td>\n",
              "      <td>-0.960000</td>\n",
              "      <td>-1.080000</td>\n",
              "      <td>-0.740000</td>\n",
              "      <td>0.310000</td>\n",
              "      <td>-0.420000</td>\n",
              "      <td>0.220000</td>\n",
              "      <td>0.580000</td>\n",
              "      <td>1.370000</td>\n",
              "      <td>1.400000</td>\n",
              "      <td>1.870000</td>\n",
              "      <td>1.940000</td>\n",
              "      <td>2.390000</td>\n",
              "      <td>2.040000</td>\n",
              "      <td>1.380000</td>\n",
              "      <td>1.870000</td>\n",
              "      <td>2.600000e+00</td>\n",
              "      <td>2.680000e+00</td>\n",
              "      <td>3.050000e+00</td>\n",
              "      <td>3.590000e+00</td>\n",
              "      <td>3.230000e+00</td>\n",
              "      <td>3.500000e+00</td>\n",
              "      <td>-0.680000</td>\n",
              "      <td>0.360000</td>\n",
              "      <td>0.900000</td>\n",
              "      <td>1.430000</td>\n",
              "    </tr>\n",
              "    <tr>\n",
              "      <th>75%</th>\n",
              "      <td>4.825500e+01</td>\n",
              "      <td>4.428500e+01</td>\n",
              "      <td>4.232500e+01</td>\n",
              "      <td>3.976500e+01</td>\n",
              "      <td>3.975000e+01</td>\n",
              "      <td>3.514000e+01</td>\n",
              "      <td>3.406000e+01</td>\n",
              "      <td>3.170000e+01</td>\n",
              "      <td>3.045500e+01</td>\n",
              "      <td>2.874500e+01</td>\n",
              "      <td>2.703000e+01</td>\n",
              "      <td>2.867500e+01</td>\n",
              "      <td>2.979500e+01</td>\n",
              "      <td>27.670000</td>\n",
              "      <td>30.665000</td>\n",
              "      <td>29.465000</td>\n",
              "      <td>31.84500</td>\n",
              "      <td>31.550000</td>\n",
              "      <td>32.605000</td>\n",
              "      <td>35.110000</td>\n",
              "      <td>38.135000</td>\n",
              "      <td>38.315000</td>\n",
              "      <td>40.070000</td>\n",
              "      <td>39.455000</td>\n",
              "      <td>40.130000</td>\n",
              "      <td>41.860000</td>\n",
              "      <td>4.371500e+01</td>\n",
              "      <td>4.704000e+01</td>\n",
              "      <td>4.914000e+01</td>\n",
              "      <td>5.144500e+01</td>\n",
              "      <td>4.992500e+01</td>\n",
              "      <td>5.451500e+01</td>\n",
              "      <td>3.811000e+01</td>\n",
              "      <td>3.385000e+01</td>\n",
              "      <td>3.117000e+01</td>\n",
              "      <td>2.815000e+01</td>\n",
              "      <td>2.403500e+01</td>\n",
              "      <td>2.470500e+01</td>\n",
              "      <td>2.131000e+01</td>\n",
              "      <td>2.080000e+01</td>\n",
              "      <td>...</td>\n",
              "      <td>2.970500e+01</td>\n",
              "      <td>3.269500e+01</td>\n",
              "      <td>3.246000e+01</td>\n",
              "      <td>21.495000</td>\n",
              "      <td>19.440000</td>\n",
              "      <td>17.650000</td>\n",
              "      <td>17.690000</td>\n",
              "      <td>18.010000</td>\n",
              "      <td>19.085000</td>\n",
              "      <td>19.180000</td>\n",
              "      <td>18.920000</td>\n",
              "      <td>20.295000</td>\n",
              "      <td>2.328500e+01</td>\n",
              "      <td>2.451000e+01</td>\n",
              "      <td>19.640000</td>\n",
              "      <td>19.410000</td>\n",
              "      <td>17.665000</td>\n",
              "      <td>17.855000</td>\n",
              "      <td>20.080000</td>\n",
              "      <td>18.690000</td>\n",
              "      <td>17.830000</td>\n",
              "      <td>19.435000</td>\n",
              "      <td>20.210000</td>\n",
              "      <td>20.085000</td>\n",
              "      <td>20.295000</td>\n",
              "      <td>20.920000</td>\n",
              "      <td>21.555000</td>\n",
              "      <td>21.055000</td>\n",
              "      <td>20.195000</td>\n",
              "      <td>19.950000</td>\n",
              "      <td>2.211000e+01</td>\n",
              "      <td>2.235000e+01</td>\n",
              "      <td>2.639500e+01</td>\n",
              "      <td>2.909000e+01</td>\n",
              "      <td>2.780000e+01</td>\n",
              "      <td>3.085500e+01</td>\n",
              "      <td>18.175000</td>\n",
              "      <td>18.770000</td>\n",
              "      <td>19.465000</td>\n",
              "      <td>20.280000</td>\n",
              "    </tr>\n",
              "    <tr>\n",
              "      <th>max</th>\n",
              "      <td>1.439240e+06</td>\n",
              "      <td>1.453319e+06</td>\n",
              "      <td>1.468429e+06</td>\n",
              "      <td>1.495750e+06</td>\n",
              "      <td>1.510937e+06</td>\n",
              "      <td>1.508152e+06</td>\n",
              "      <td>1.465743e+06</td>\n",
              "      <td>1.416827e+06</td>\n",
              "      <td>1.342888e+06</td>\n",
              "      <td>1.263870e+06</td>\n",
              "      <td>1.178975e+06</td>\n",
              "      <td>1.082266e+06</td>\n",
              "      <td>1.003162e+06</td>\n",
              "      <td>914551.000000</td>\n",
              "      <td>833016.000000</td>\n",
              "      <td>760766.000000</td>\n",
              "      <td>690691.50000</td>\n",
              "      <td>634772.500000</td>\n",
              "      <td>600839.000000</td>\n",
              "      <td>580863.000000</td>\n",
              "      <td>580497.500000</td>\n",
              "      <td>597493.500000</td>\n",
              "      <td>625709.000000</td>\n",
              "      <td>738302.000000</td>\n",
              "      <td>835844.000000</td>\n",
              "      <td>854254.000000</td>\n",
              "      <td>1.412850e+06</td>\n",
              "      <td>1.412850e+06</td>\n",
              "      <td>1.412850e+06</td>\n",
              "      <td>1.565138e+06</td>\n",
              "      <td>1.935902e+06</td>\n",
              "      <td>2.299764e+06</td>\n",
              "      <td>1.412850e+06</td>\n",
              "      <td>1.440171e+06</td>\n",
              "      <td>1.465712e+06</td>\n",
              "      <td>1.484768e+06</td>\n",
              "      <td>1.488858e+06</td>\n",
              "      <td>1.485196e+06</td>\n",
              "      <td>1.466303e+06</td>\n",
              "      <td>1.432713e+06</td>\n",
              "      <td>...</td>\n",
              "      <td>3.512683e+06</td>\n",
              "      <td>4.016017e+06</td>\n",
              "      <td>4.127449e+06</td>\n",
              "      <td>555589.500000</td>\n",
              "      <td>549980.500000</td>\n",
              "      <td>452768.500000</td>\n",
              "      <td>354328.000000</td>\n",
              "      <td>275747.000000</td>\n",
              "      <td>265202.000000</td>\n",
              "      <td>248283.000000</td>\n",
              "      <td>344784.000000</td>\n",
              "      <td>880737.000000</td>\n",
              "      <td>2.154956e+06</td>\n",
              "      <td>3.191112e+06</td>\n",
              "      <td>509858.000000</td>\n",
              "      <td>485361.000000</td>\n",
              "      <td>416346.000000</td>\n",
              "      <td>351628.500000</td>\n",
              "      <td>316595.500000</td>\n",
              "      <td>251685.500000</td>\n",
              "      <td>212255.500000</td>\n",
              "      <td>181663.000000</td>\n",
              "      <td>183937.500000</td>\n",
              "      <td>220831.500000</td>\n",
              "      <td>313234.500000</td>\n",
              "      <td>251037.000000</td>\n",
              "      <td>297137.000000</td>\n",
              "      <td>338239.500000</td>\n",
              "      <td>674057.750000</td>\n",
              "      <td>840521.000000</td>\n",
              "      <td>1.779338e+06</td>\n",
              "      <td>2.379227e+06</td>\n",
              "      <td>2.992070e+06</td>\n",
              "      <td>3.434973e+06</td>\n",
              "      <td>3.481220e+06</td>\n",
              "      <td>3.616292e+06</td>\n",
              "      <td>288607.500000</td>\n",
              "      <td>215972.000000</td>\n",
              "      <td>207590.000000</td>\n",
              "      <td>211302.000000</td>\n",
              "    </tr>\n",
              "  </tbody>\n",
              "</table>\n",
              "<p>8 rows × 3197 columns</p>\n",
              "</div>"
            ],
            "text/plain": [
              "             FLUX.1        FLUX.2  ...      FLUX.3196      FLUX.3197\n",
              "count  5.087000e+03  5.087000e+03  ...    5087.000000    5087.000000\n",
              "mean   1.445054e+02  1.285778e+02  ...    -440.239100    -300.536399\n",
              "std    2.150669e+04  2.179717e+04  ...   16273.406292   14459.795577\n",
              "min   -2.278563e+05 -3.154408e+05  ... -700992.000000 -643170.000000\n",
              "25%   -4.234000e+01 -3.952000e+01  ...     -21.135000     -19.820000\n",
              "50%   -7.100000e-01 -8.900000e-01  ...       0.900000       1.430000\n",
              "75%    4.825500e+01  4.428500e+01  ...      19.465000      20.280000\n",
              "max    1.439240e+06  1.453319e+06  ...  207590.000000  211302.000000\n",
              "\n",
              "[8 rows x 3197 columns]"
            ]
          },
          "metadata": {
            "tags": []
          },
          "execution_count": 8
        }
      ]
    },
    {
      "cell_type": "markdown",
      "metadata": {
        "id": "W2IKcJbBLUFZ"
      },
      "source": [
        "O dataset conta com 5087 observações, ou seja, 5087 estrelas que foram observadas por um determinado período de tempo.\n",
        "Cada estrela possui uma coluna de label indicando se foi detectado ao menos um exoplaneta orbitando a estrela e 3197 colunas com a intensidade da luz dessa estrela em um determinado momento no tempo."
      ]
    },
    {
      "cell_type": "markdown",
      "metadata": {
        "id": "ALWumZedLszl"
      },
      "source": [
        "Por estar completamente identificado com as classes que pretendemos classificar, é um caso de ensino supervisionado.\n",
        "Além disso, são apenas duas classes (possui ou não um exoplaneta), então deve ser tratado como um problema de classificação binária."
      ]
    },
    {
      "cell_type": "markdown",
      "metadata": {
        "id": "MTyVVBl7RzGp"
      },
      "source": [
        "Agora, vamos contar quantas estrelas possuem um exoplaneta entre as 5087 observadas."
      ]
    },
    {
      "cell_type": "code",
      "metadata": {
        "id": "C1qvBEnARruA",
        "outputId": "ff27edcd-0cf9-4c41-feac-bd411639158e",
        "colab": {
          "base_uri": "https://localhost:8080/",
          "height": 119
        }
      },
      "source": [
        "print(y_train.value_counts())\n",
        "print(y_test.value_counts())"
      ],
      "execution_count": null,
      "outputs": [
        {
          "output_type": "stream",
          "text": [
            "0    5050\n",
            "1      37\n",
            "Name: LABEL, dtype: int64\n",
            "0    565\n",
            "1      5\n",
            "Name: LABEL, dtype: int64\n"
          ],
          "name": "stdout"
        }
      ]
    },
    {
      "cell_type": "markdown",
      "metadata": {
        "id": "y3-CK9PDTpkK"
      },
      "source": [
        "A grande maioria das observações são de estrelas que não possuem exoplaneta em órbita. Para não deixar a rede com um forte viés para estrelas sem exoplanetas, o ideal seria balancear esses dados."
      ]
    },
    {
      "cell_type": "markdown",
      "metadata": {
        "id": "8wS7iWKWcmp-"
      },
      "source": [
        "A seguir, algumas visualizações da variação dos dados em estrelas com e sem exoplanetas"
      ]
    },
    {
      "cell_type": "code",
      "metadata": {
        "id": "Ka_uNxC75G-5",
        "outputId": "75504e5d-acb4-4cf9-b90d-400516350b86",
        "colab": {
          "base_uri": "https://localhost:8080/",
          "height": 663
        }
      },
      "source": [
        "x = 3\n",
        "y = 2\n",
        "fig, axes = plt.subplots(y, x, figsize=(x*5, y*5))\n",
        "fig.suptitle('Exemplos de estrelas com exoplanetas')\n",
        "\n",
        "idx=0\n",
        "for i in range(x):\n",
        "  for j in range(y):\n",
        "    sns.lineplot(ax=axes[j, i], x=range(len(X_train.columns)), y=X_train[y_train == 1].iloc[idx])\n",
        "    idx+=1"
      ],
      "execution_count": null,
      "outputs": [
        {
          "output_type": "display_data",
          "data": {
            "image/png": "[encoded data removed]",
            "text/plain": [
              "<Figure size 1080x720 with 6 Axes>"
            ]
          },
          "metadata": {
            "tags": [],
            "needs_background": "light"
          }
        }
      ]
    },
    {
      "cell_type": "code",
      "metadata": {
        "id": "5BuucmGj5NN1",
        "outputId": "92c9173b-8694-4001-c729-042b9fd474bb",
        "colab": {
          "base_uri": "https://localhost:8080/",
          "height": 663
        }
      },
      "source": [
        "x = 3\n",
        "y = 2\n",
        "fig, axes = plt.subplots(y, x, figsize=(x*5, y*5))\n",
        "fig.suptitle('Exemplos de estrelas sem exoplanetas')\n",
        "\n",
        "idx=0\n",
        "for i in range(x):\n",
        "  for j in range(y):\n",
        "    sns.lineplot(ax=axes[j, i], x=range(len(X_train.columns)), y=X_train[y_train == 0].iloc[idx])\n",
        "    idx+=1"
      ],
      "execution_count": null,
      "outputs": [
        {
          "output_type": "display_data",
          "data": {
            "image/png": "[encoded data removed]",
            "text/plain": [
              "<Figure size 1080x720 with 6 Axes>"
            ]
          },
          "metadata": {
            "tags": [],
            "needs_background": "light"
          }
        }
      ]
    },
    {
      "cell_type": "markdown",
      "metadata": {
        "id": "Rme0j8JYhbSJ"
      },
      "source": [
        "A partir dos dados, é possível verificar alguns outliers bem evidentes que acabam distorcendo os dados."
      ]
    },
    {
      "cell_type": "markdown",
      "metadata": {
        "id": "2Osnq-hW33TQ"
      },
      "source": [
        "# Processando os dados\n",
        "Nesta etapa serão realizados processamentos sobre os dados para que fiquem o mais otimizado possível para uso com os modelos de Machine Learning."
      ]
    },
    {
      "cell_type": "markdown",
      "metadata": {
        "id": "Vo1dNhe-Wfu0"
      },
      "source": [
        "## Tratando valores nulos\n",
        "\n"
      ]
    },
    {
      "cell_type": "code",
      "metadata": {
        "id": "z4Ad_j0sJBfI",
        "outputId": "a9df0012-4781-4b27-fa50-81c0b70fce06",
        "colab": {
          "base_uri": "https://localhost:8080/",
          "height": 51
        }
      },
      "source": [
        "# Verifica se há algum valor nulo nos dados de treino\n",
        "null_count = (X_train.isnull().sum())\n",
        "print(null_count[null_count > 0])\n",
        "\n",
        "# Verifica se há algum valor nulo nos dados de teste\n",
        "null_count = (X_test.isnull().sum())\n",
        "print(null_count[null_count > 0])"
      ],
      "execution_count": null,
      "outputs": [
        {
          "output_type": "stream",
          "text": [
            "Series([], dtype: int64)\n",
            "Series([], dtype: int64)\n"
          ],
          "name": "stdout"
        }
      ]
    },
    {
      "cell_type": "markdown",
      "metadata": {
        "id": "38mHM0pNXnBK"
      },
      "source": [
        "Não há valores nulos em ambos os datasets, tanto de treino como de teste, então não precisamos tratar isso."
      ]
    },
    {
      "cell_type": "markdown",
      "metadata": {
        "id": "GMM6mJ0dFbQy"
      },
      "source": [
        "## Normalizando as features\n",
        "Aqui estamos normalizando todas as features para uma média 0 e desvio padrão 1."
      ]
    },
    {
      "cell_type": "code",
      "metadata": {
        "id": "EtpudVEv9JtV",
        "outputId": "73403aa0-ece5-4958-ba72-5e4fca55f8a1",
        "colab": {
          "base_uri": "https://localhost:8080/",
          "height": 238
        }
      },
      "source": [
        "sc = StandardScaler()\n",
        "X_train = sc.fit_transform(X_train)\n",
        "X_test = sc.transform(X_test)\n",
        "\n",
        "print(X_train)"
      ],
      "execution_count": null,
      "outputs": [
        {
          "output_type": "stream",
          "text": [
            "[[-0.00235557 -0.00205404 -0.00579778 ...  0.0341983   0.02736753\n",
            "   0.01805157]\n",
            " [-0.00852774 -0.0074516  -0.00938685 ...  0.03109682  0.02803863\n",
            "   0.02216476]\n",
            " [ 0.01804893  0.01868969  0.01673115 ...  0.02910084  0.02275218\n",
            "   0.01410023]\n",
            " ...\n",
            " [ 0.00599336  0.00685579  0.00523005 ...  0.03572195  0.03191466\n",
            "   0.02628002]\n",
            " [-0.00654212 -0.00580352 -0.00686528 ...  0.0299112   0.0266614\n",
            "   0.02060995]\n",
            " [ 0.00831333  0.00815701  0.00666449 ...  0.02978874  0.02618942\n",
            "   0.02271046]]\n"
          ],
          "name": "stdout"
        }
      ]
    },
    {
      "cell_type": "markdown",
      "metadata": {
        "id": "WhNaTxjwDTtl"
      },
      "source": [
        "## Balanceamento\n",
        "\n",
        "A base de dados tem um desbalanceamento entre os sistemas solares que tem exoplaneta (37) e os que não os tem (5050). Isso pode causa um forte viés ao tentar classificar dados reais. Por isso foi aplicado o metodo SMOTE (Synthetic Minority Oversampling Technique) para popular a classe minoritaria a fim de balancear os dados de treino. "
      ]
    },
    {
      "cell_type": "code",
      "metadata": {
        "id": "IF_c7Y8GDx_8",
        "outputId": "bd1320c9-535d-4748-902a-f8b005214e7c",
        "colab": {
          "base_uri": "https://localhost:8080/",
          "height": 105
        }
      },
      "source": [
        "# UPSAMPLING: SMOTE\n",
        "X_total = X_train.copy()\n",
        "os =  SMOTE(sampling_strategy='minority')\n",
        "X_upsampling , y_upsampling = os.fit_sample(X_total, y_train)\n",
        "\n",
        "print(\"Distribuição antes do balanceamento {}\".format(Counter(y_train)))\n",
        "print(\"Distribuição depois do balanceamento {}\".format(Counter(y_upsampling)))"
      ],
      "execution_count": null,
      "outputs": [
        {
          "output_type": "stream",
          "text": [
            "/usr/local/lib/python3.6/dist-packages/sklearn/utils/deprecation.py:87: FutureWarning: Function safe_indexing is deprecated; safe_indexing is deprecated in version 0.22 and will be removed in version 0.24.\n",
            "  warnings.warn(msg, category=FutureWarning)\n"
          ],
          "name": "stderr"
        },
        {
          "output_type": "stream",
          "text": [
            "Distribuição antes do balanceamento Counter({0: 5050, 1: 37})\n",
            "Distribuição depois do balanceamento Counter({1: 5050, 0: 5050})\n"
          ],
          "name": "stdout"
        }
      ]
    },
    {
      "cell_type": "markdown",
      "metadata": {
        "id": "-MYu7V8XnvjU"
      },
      "source": [
        "# Treinando os modelos"
      ]
    },
    {
      "cell_type": "markdown",
      "metadata": {
        "id": "j4AkcyAGxfwH"
      },
      "source": [
        "##Algoritmos\n",
        "\n",
        "Nossa solução consiste em utilizar um algoritmo de RNN com um algoritmo CNN. Utilizaremos o algoritmo LSTM, que é uma arquitetura de rede neural recorrente (RNN). A LSTM provou ser um modelo eficaz para classificação de séries temporais, já que esse modelo de arquitetura tem conexões de feedback. E utilizaremos de forma combinada uma CNN de 1 dimensão e 4 camadas, que também traz bons resultados em séries temporais."
      ]
    },
    {
      "cell_type": "markdown",
      "metadata": {
        "id": "RfICkr6In0y7"
      },
      "source": [
        "## Modelo MLP (Multilayer Perceptron)\n",
        "Uma rede neural densa simples MLP: duas camadas densas com 64 neurônios cada."
      ]
    },
    {
      "cell_type": "code",
      "metadata": {
        "id": "ao2xwm2QnzsX",
        "outputId": "9943a069-5616-4373-d6e6-f76f0ab4c49b",
        "colab": {
          "base_uri": "https://localhost:8080/",
          "height": 255
        }
      },
      "source": [
        "modelS = Sequential()\n",
        "modelS.add(Dense(units=64, activation='relu', input_dim=X_train.shape[1]))\n",
        "modelS.add(Dense(units=64, activation='relu'))\n",
        "modelS.add(Dense(units=1, activation='sigmoid'))\n",
        "modelS.compile(optimizer='adam', loss = 'binary_crossentropy', metrics=['accuracy'])\n",
        "modelS.summary()"
      ],
      "execution_count": null,
      "outputs": [
        {
          "output_type": "stream",
          "text": [
            "Model: \"sequential\"\n",
            "_________________________________________________________________\n",
            "Layer (type)                 Output Shape              Param #   \n",
            "=================================================================\n",
            "dense (Dense)                (None, 64)                204672    \n",
            "_________________________________________________________________\n",
            "dense_1 (Dense)              (None, 64)                4160      \n",
            "_________________________________________________________________\n",
            "dense_2 (Dense)              (None, 1)                 65        \n",
            "=================================================================\n",
            "Total params: 208,897\n",
            "Trainable params: 208,897\n",
            "Non-trainable params: 0\n",
            "_________________________________________________________________\n"
          ],
          "name": "stdout"
        }
      ]
    },
    {
      "cell_type": "markdown",
      "metadata": {
        "id": "JzB30QZ8J4vb"
      },
      "source": [
        "Vamos primeiro testar o modelo com o conjunto de dados original"
      ]
    },
    {
      "cell_type": "code",
      "metadata": {
        "id": "w0CdEKfUIEaZ",
        "outputId": "b27d858b-8ee7-4232-c829-04366694d9b3",
        "colab": {
          "base_uri": "https://localhost:8080/",
          "height": 635
        }
      },
      "source": [
        "histS = modelS.fit(X_train, y_train, batch_size=32, epochs=10, validation_data=(X_test, y_test))"
      ],
      "execution_count": null,
      "outputs": [
        {
          "output_type": "stream",
          "text": [
            "Epoch 1/10\n",
            "159/159 [==============================] - 1s 4ms/step - loss: 0.0795 - accuracy: 0.9919 - val_loss: 0.0455 - val_accuracy: 0.9912\n",
            "Epoch 2/10\n",
            "159/159 [==============================] - 1s 3ms/step - loss: 0.0440 - accuracy: 0.9927 - val_loss: 0.0468 - val_accuracy: 0.9912\n",
            "Epoch 3/10\n",
            "159/159 [==============================] - 1s 3ms/step - loss: 0.0444 - accuracy: 0.9927 - val_loss: 0.0475 - val_accuracy: 0.9912\n",
            "Epoch 4/10\n",
            "159/159 [==============================] - 1s 3ms/step - loss: 0.0406 - accuracy: 0.9929 - val_loss: 0.0479 - val_accuracy: 0.9912\n",
            "Epoch 5/10\n",
            "159/159 [==============================] - 1s 3ms/step - loss: 0.0393 - accuracy: 0.9929 - val_loss: 0.0501 - val_accuracy: 0.9912\n",
            "Epoch 6/10\n",
            "159/159 [==============================] - 1s 3ms/step - loss: 0.0368 - accuracy: 0.9929 - val_loss: 0.0519 - val_accuracy: 0.9912\n",
            "Epoch 7/10\n",
            "159/159 [==============================] - 1s 3ms/step - loss: 0.0359 - accuracy: 0.9931 - val_loss: 0.0603 - val_accuracy: 0.9912\n",
            "Epoch 8/10\n",
            "159/159 [==============================] - 1s 3ms/step - loss: 0.0339 - accuracy: 0.9929 - val_loss: 0.0618 - val_accuracy: 0.9912\n",
            "Epoch 9/10\n",
            "159/159 [==============================] - 1s 4ms/step - loss: 0.0334 - accuracy: 0.9931 - val_loss: 0.0608 - val_accuracy: 0.9912\n",
            "Epoch 10/10\n",
            "159/159 [==============================] - 1s 3ms/step - loss: 0.0327 - accuracy: 0.9929 - val_loss: 0.0671 - val_accuracy: 0.9912\n"
          ],
          "name": "stdout"
        },
        {
          "output_type": "display_data",
          "data": {
            "image/png": "[encoded data removed]",
            "text/plain": [
              "<Figure size 432x288 with 1 Axes>"
            ]
          },
          "metadata": {
            "tags": [],
            "needs_background": "light"
          }
        }
      ]
    },
    {
      "cell_type": "code",
      "metadata": {
        "id": "IJklxHOJVt3A"
      },
      "source": [
        "plt.plot(histS.history['loss'])\n",
        "plt.plot(histS.history['val_loss'])\n",
        "plt.title('model loss')\n",
        "plt.ylabel('loss')\n",
        "plt.xlabel('epoch')\n",
        "plt.legend(['train', 'test'], loc='upper right')\n",
        "plt.show()"
      ],
      "execution_count": null,
      "outputs": []
    },
    {
      "cell_type": "code",
      "metadata": {
        "id": "XCm91RsHXEv8"
      },
      "source": [
        "predict = model.predict_classes(y_test)\n",
        "print(confusion_matrix(y_test['new1'], predict))\n",
        "print(classification_report(testy['new1'], predict))"
      ],
      "execution_count": null,
      "outputs": []
    },
    {
      "cell_type": "markdown",
      "metadata": {
        "id": "yg487_ymJ7rl"
      },
      "source": [
        "E então testar com o conjunto de dados após o balanceamento"
      ]
    },
    {
      "cell_type": "code",
      "metadata": {
        "id": "Dzv9bIgeKPyV",
        "outputId": "c8106fc2-fb4e-4f46-dd2e-7117071029ca",
        "colab": {
          "base_uri": "https://localhost:8080/",
          "height": 635
        }
      },
      "source": [
        "histS = modelS.fit(X_upsampling, y_upsampling, batch_size=32, epochs=10, validation_data=(X_test, y_test))"
      ],
      "execution_count": null,
      "outputs": [
        {
          "output_type": "stream",
          "text": [
            "Epoch 1/10\n",
            "316/316 [==============================] - 1s 4ms/step - loss: 0.5837 - accuracy: 0.7034 - val_loss: 0.3270 - val_accuracy: 0.9351\n",
            "Epoch 2/10\n",
            "316/316 [==============================] - 1s 3ms/step - loss: 0.2681 - accuracy: 0.9147 - val_loss: 0.1738 - val_accuracy: 0.9649\n",
            "Epoch 3/10\n",
            "316/316 [==============================] - 1s 3ms/step - loss: 0.0886 - accuracy: 0.9793 - val_loss: 0.2495 - val_accuracy: 0.9702\n",
            "Epoch 4/10\n",
            "316/316 [==============================] - 1s 3ms/step - loss: 0.0400 - accuracy: 0.9944 - val_loss: 0.3013 - val_accuracy: 0.9860\n",
            "Epoch 5/10\n",
            "316/316 [==============================] - 1s 3ms/step - loss: 0.0185 - accuracy: 0.9971 - val_loss: 0.3868 - val_accuracy: 0.9772\n",
            "Epoch 6/10\n",
            "316/316 [==============================] - 1s 3ms/step - loss: 0.0101 - accuracy: 0.9985 - val_loss: 0.4291 - val_accuracy: 0.9807\n",
            "Epoch 7/10\n",
            "316/316 [==============================] - 1s 4ms/step - loss: 0.0056 - accuracy: 0.9992 - val_loss: 0.4811 - val_accuracy: 0.9807\n",
            "Epoch 8/10\n",
            "316/316 [==============================] - 1s 3ms/step - loss: 0.0093 - accuracy: 0.9981 - val_loss: 0.5473 - val_accuracy: 0.9807\n",
            "Epoch 9/10\n",
            "316/316 [==============================] - 1s 3ms/step - loss: 0.0042 - accuracy: 0.9993 - val_loss: 0.5833 - val_accuracy: 0.9807\n",
            "Epoch 10/10\n",
            "316/316 [==============================] - 1s 3ms/step - loss: 0.0043 - accuracy: 0.9996 - val_loss: 0.5753 - val_accuracy: 0.9772\n"
          ],
          "name": "stdout"
        },
        {
          "output_type": "display_data",
          "data": {
            "image/png": "[encoded data removed]",
            "text/plain": [
              "<Figure size 432x288 with 1 Axes>"
            ]
          },
          "metadata": {
            "tags": [],
            "needs_background": "light"
          }
        }
      ]
    },
    {
      "cell_type": "code",
      "metadata": {
        "id": "tsK_J1N6VpJv"
      },
      "source": [
        "plt.plot(histS.history['loss'])\n",
        "plt.plot(histS.history['val_loss'])\n",
        "plt.title('model loss')\n",
        "plt.ylabel('loss')\n",
        "plt.xlabel('epoch')\n",
        "plt.legend(['train', 'test'], loc='upper right')\n",
        "plt.show()"
      ],
      "execution_count": null,
      "outputs": []
    },
    {
      "cell_type": "markdown",
      "metadata": {
        "id": "hO8wTolWCDtw"
      },
      "source": [
        "## Modelo RNN + CNN\n",
        "\n"
      ]
    },
    {
      "cell_type": "code",
      "metadata": {
        "id": "70xJm_Eg6_Z1",
        "outputId": "cf7989df-e098-4258-e2cc-8ae592bf8bca",
        "colab": {
          "base_uri": "https://localhost:8080/",
          "height": 986
        }
      },
      "source": [
        "ip = Input(shape=(3197, 1))\n",
        "# LSTM\n",
        "x = Permute((2, 1))(ip)\n",
        "x = LSTM(16, return_sequences=True)(x)\n",
        "x = LSTM(32, return_sequences=True)(x)\n",
        "x = LSTM(64, return_sequences=True)(x)\n",
        "x = LSTM(128)(x)\n",
        "x = Dropout(0.25)(x)\n",
        "\n",
        "y = Conv1D(filters=16, kernel_size=11, activation='relu')(ip)\n",
        "y = MaxPool1D(strides=4)(y)\n",
        "y = BatchNormalization()(y)\n",
        "y = Conv1D(filters=32, kernel_size=11, activation='relu')(y)\n",
        "y = MaxPool1D(strides=4)(y)\n",
        "y = BatchNormalization()(y)\n",
        "y = Conv1D(filters=64, kernel_size=11, activation='relu')(y)\n",
        "y = MaxPool1D(strides=4)(y)\n",
        "y = BatchNormalization()(y)\n",
        "y = Conv1D(filters=128, kernel_size=11, activation='relu')(y)\n",
        "y = MaxPool1D(strides=4)(y)\n",
        "y = Flatten()(y)\n",
        "y = Dropout(0.25)(y)\n",
        "y = Dense(64, activation='relu')(y)\n",
        "\n",
        "#Concatenate\n",
        "x = concatenate([x, y])\n",
        "x = Dense(32, activation='relu')(x)\n",
        "out = Dense(1, activation='sigmoid')(x)\n",
        "model = Model(ip, out)\n",
        "model.summary()"
      ],
      "execution_count": null,
      "outputs": [
        {
          "output_type": "stream",
          "text": [
            "Model: \"functional_1\"\n",
            "__________________________________________________________________________________________________\n",
            "Layer (type)                    Output Shape         Param #     Connected to                     \n",
            "==================================================================================================\n",
            "input_1 (InputLayer)            [(None, 3197, 1)]    0                                            \n",
            "__________________________________________________________________________________________________\n",
            "conv1d (Conv1D)                 (None, 3187, 16)     192         input_1[0][0]                    \n",
            "__________________________________________________________________________________________________\n",
            "max_pooling1d (MaxPooling1D)    (None, 797, 16)      0           conv1d[0][0]                     \n",
            "__________________________________________________________________________________________________\n",
            "batch_normalization (BatchNorma (None, 797, 16)      64          max_pooling1d[0][0]              \n",
            "__________________________________________________________________________________________________\n",
            "conv1d_1 (Conv1D)               (None, 787, 32)      5664        batch_normalization[0][0]        \n",
            "__________________________________________________________________________________________________\n",
            "max_pooling1d_1 (MaxPooling1D)  (None, 197, 32)      0           conv1d_1[0][0]                   \n",
            "__________________________________________________________________________________________________\n",
            "batch_normalization_1 (BatchNor (None, 197, 32)      128         max_pooling1d_1[0][0]            \n",
            "__________________________________________________________________________________________________\n",
            "conv1d_2 (Conv1D)               (None, 187, 64)      22592       batch_normalization_1[0][0]      \n",
            "__________________________________________________________________________________________________\n",
            "max_pooling1d_2 (MaxPooling1D)  (None, 47, 64)       0           conv1d_2[0][0]                   \n",
            "__________________________________________________________________________________________________\n",
            "permute (Permute)               (None, 1, 3197)      0           input_1[0][0]                    \n",
            "__________________________________________________________________________________________________\n",
            "batch_normalization_2 (BatchNor (None, 47, 64)       256         max_pooling1d_2[0][0]            \n",
            "__________________________________________________________________________________________________\n",
            "lstm (LSTM)                     (None, 1, 16)        205696      permute[0][0]                    \n",
            "__________________________________________________________________________________________________\n",
            "conv1d_3 (Conv1D)               (None, 37, 128)      90240       batch_normalization_2[0][0]      \n",
            "__________________________________________________________________________________________________\n",
            "lstm_1 (LSTM)                   (None, 1, 32)        6272        lstm[0][0]                       \n",
            "__________________________________________________________________________________________________\n",
            "max_pooling1d_3 (MaxPooling1D)  (None, 9, 128)       0           conv1d_3[0][0]                   \n",
            "__________________________________________________________________________________________________\n",
            "lstm_2 (LSTM)                   (None, 1, 64)        24832       lstm_1[0][0]                     \n",
            "__________________________________________________________________________________________________\n",
            "flatten (Flatten)               (None, 1152)         0           max_pooling1d_3[0][0]            \n",
            "__________________________________________________________________________________________________\n",
            "lstm_3 (LSTM)                   (None, 128)          98816       lstm_2[0][0]                     \n",
            "__________________________________________________________________________________________________\n",
            "dropout_1 (Dropout)             (None, 1152)         0           flatten[0][0]                    \n",
            "__________________________________________________________________________________________________\n",
            "dropout (Dropout)               (None, 128)          0           lstm_3[0][0]                     \n",
            "__________________________________________________________________________________________________\n",
            "dense_3 (Dense)                 (None, 64)           73792       dropout_1[0][0]                  \n",
            "__________________________________________________________________________________________________\n",
            "concatenate (Concatenate)       (None, 192)          0           dropout[0][0]                    \n",
            "                                                                 dense_3[0][0]                    \n",
            "__________________________________________________________________________________________________\n",
            "dense_4 (Dense)                 (None, 32)           6176        concatenate[0][0]                \n",
            "__________________________________________________________________________________________________\n",
            "dense_5 (Dense)                 (None, 1)            33          dense_4[0][0]                    \n",
            "==================================================================================================\n",
            "Total params: 534,753\n",
            "Trainable params: 534,529\n",
            "Non-trainable params: 224\n",
            "__________________________________________________________________________________________________\n"
          ],
          "name": "stdout"
        }
      ]
    },
    {
      "cell_type": "code",
      "metadata": {
        "id": "yRiuBeICoLQT",
        "outputId": "ec85ffa7-5f59-4a80-f3d3-9886cd8eedd9",
        "colab": {
          "base_uri": "https://localhost:8080/",
          "height": 357
        }
      },
      "source": [
        "model.compile(optimizer='adam', loss = 'binary_crossentropy', metrics=['accuracy'])\n",
        "hist = model.fit(X_train, y_train, batch_size=32, epochs=10, validation_data=(X_test, y_test))"
      ],
      "execution_count": null,
      "outputs": [
        {
          "output_type": "stream",
          "text": [
            "Epoch 1/10\n",
            "159/159 [==============================] - 22s 137ms/step - loss: 0.0660 - accuracy: 0.9864 - val_loss: 0.0607 - val_accuracy: 0.9912\n",
            "Epoch 2/10\n",
            "159/159 [==============================] - 21s 134ms/step - loss: 0.0488 - accuracy: 0.9927 - val_loss: 0.0565 - val_accuracy: 0.9912\n",
            "Epoch 3/10\n",
            "159/159 [==============================] - 21s 132ms/step - loss: 0.0441 - accuracy: 0.9927 - val_loss: 0.0504 - val_accuracy: 0.9912\n",
            "Epoch 4/10\n",
            "159/159 [==============================] - 21s 131ms/step - loss: 0.0458 - accuracy: 0.9927 - val_loss: 0.0660 - val_accuracy: 0.9912\n",
            "Epoch 5/10\n",
            "159/159 [==============================] - 21s 133ms/step - loss: 0.0421 - accuracy: 0.9927 - val_loss: 0.0532 - val_accuracy: 0.9912\n",
            "Epoch 6/10\n",
            "159/159 [==============================] - 22s 136ms/step - loss: 0.0364 - accuracy: 0.9931 - val_loss: 0.0550 - val_accuracy: 0.9912\n",
            "Epoch 7/10\n",
            "159/159 [==============================] - 21s 134ms/step - loss: 0.0348 - accuracy: 0.9937 - val_loss: 0.0521 - val_accuracy: 0.9912\n",
            "Epoch 8/10\n",
            "159/159 [==============================] - 26s 165ms/step - loss: 0.0325 - accuracy: 0.9939 - val_loss: 0.0528 - val_accuracy: 0.9912\n",
            "Epoch 9/10\n",
            "159/159 [==============================] - 22s 136ms/step - loss: 0.0276 - accuracy: 0.9951 - val_loss: 0.0540 - val_accuracy: 0.9912\n",
            "Epoch 10/10\n",
            "159/159 [==============================] - 21s 134ms/step - loss: 0.0293 - accuracy: 0.9945 - val_loss: 0.0632 - val_accuracy: 0.9895\n"
          ],
          "name": "stdout"
        }
      ]
    },
    {
      "cell_type": "code",
      "metadata": {
        "id": "O5UpFZbsWIR2",
        "outputId": "a4b39164-c941-45f7-b772-f012e9369bca",
        "colab": {
          "base_uri": "https://localhost:8080/",
          "height": 295
        }
      },
      "source": [
        "plt.plot(hist.history['loss'])\n",
        "plt.plot(hist.history['val_loss'])\n",
        "plt.title('model loss')\n",
        "plt.ylabel('loss')\n",
        "plt.xlabel('epoch')\n",
        "plt.legend(['train', 'test'], loc='upper right')\n",
        "plt.show()"
      ],
      "execution_count": null,
      "outputs": [
        {
          "output_type": "display_data",
          "data": {
            "image/png": "[encoded data removed]",
            "text/plain": [
              "<Figure size 432x288 with 1 Axes>"
            ]
          },
          "metadata": {
            "tags": [],
            "needs_background": "light"
          }
        }
      ]
    },
    {
      "cell_type": "code",
      "metadata": {
        "id": "73JeBh5FWJyi"
      },
      "source": [
        ""
      ],
      "execution_count": null,
      "outputs": []
    }
  ]
}